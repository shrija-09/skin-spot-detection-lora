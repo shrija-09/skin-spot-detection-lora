{
  "cells": [
    {
      "cell_type": "code",
      "execution_count": null,
      "metadata": {
        "id": "3AItVcxP0WoS"
      },
      "outputs": [],
      "source": [
        "pip install tensorflow matplotlib pillow\n"
      ]
    },
    {
      "cell_type": "code",
      "execution_count": null,
      "metadata": {
        "colab": {
          "base_uri": "https://localhost:8080/"
        },
        "id": "i2Qb7Pal0iGY",
        "outputId": "695db8a9-dea1-46d2-d36a-0a6deede05ab"
      },
      "outputs": [
        {
          "output_type": "stream",
          "name": "stdout",
          "text": [
            "Mounted at /content/drive\n"
          ]
        }
      ],
      "source": [
        "from google.colab import drive\n",
        "drive.mount('/content/drive')\n"
      ]
    },
    {
      "cell_type": "code",
      "execution_count": null,
      "metadata": {
        "id": "lfZYl6j5NxRF"
      },
      "outputs": [],
      "source": [
        "data_directory = \"/content/drive/MyDrive/dataset_proj/\"\n",
        "\n",
        "\n"
      ]
    },
    {
      "cell_type": "code",
      "execution_count": null,
      "metadata": {
        "id": "3cpFlRMRNyiR"
      },
      "outputs": [],
      "source": []
    },
    {
      "cell_type": "code",
      "execution_count": null,
      "metadata": {
        "colab": {
          "base_uri": "https://localhost:8080/"
        },
        "id": "xVCzpsfA0rPa",
        "outputId": "4a3576ab-4f3c-4664-910c-72c4d42c282c"
      },
      "outputs": [
        {
          "output_type": "stream",
          "name": "stdout",
          "text": [
            "Requirement already satisfied: tensorflow in /usr/local/lib/python3.11/dist-packages (2.18.0)\n",
            "Requirement already satisfied: matplotlib in /usr/local/lib/python3.11/dist-packages (3.10.0)\n",
            "Requirement already satisfied: pillow in /usr/local/lib/python3.11/dist-packages (11.2.1)\n",
            "Requirement already satisfied: absl-py>=1.0.0 in /usr/local/lib/python3.11/dist-packages (from tensorflow) (1.4.0)\n",
            "Requirement already satisfied: astunparse>=1.6.0 in /usr/local/lib/python3.11/dist-packages (from tensorflow) (1.6.3)\n",
            "Requirement already satisfied: flatbuffers>=24.3.25 in /usr/local/lib/python3.11/dist-packages (from tensorflow) (25.2.10)\n",
            "Requirement already satisfied: gast!=0.5.0,!=0.5.1,!=0.5.2,>=0.2.1 in /usr/local/lib/python3.11/dist-packages (from tensorflow) (0.6.0)\n",
            "Requirement already satisfied: google-pasta>=0.1.1 in /usr/local/lib/python3.11/dist-packages (from tensorflow) (0.2.0)\n",
            "Requirement already satisfied: libclang>=13.0.0 in /usr/local/lib/python3.11/dist-packages (from tensorflow) (18.1.1)\n",
            "Requirement already satisfied: opt-einsum>=2.3.2 in /usr/local/lib/python3.11/dist-packages (from tensorflow) (3.4.0)\n",
            "Requirement already satisfied: packaging in /usr/local/lib/python3.11/dist-packages (from tensorflow) (24.2)\n",
            "Requirement already satisfied: protobuf!=4.21.0,!=4.21.1,!=4.21.2,!=4.21.3,!=4.21.4,!=4.21.5,<6.0.0dev,>=3.20.3 in /usr/local/lib/python3.11/dist-packages (from tensorflow) (5.29.4)\n",
            "Requirement already satisfied: requests<3,>=2.21.0 in /usr/local/lib/python3.11/dist-packages (from tensorflow) (2.32.3)\n",
            "Requirement already satisfied: setuptools in /usr/local/lib/python3.11/dist-packages (from tensorflow) (75.2.0)\n",
            "Requirement already satisfied: six>=1.12.0 in /usr/local/lib/python3.11/dist-packages (from tensorflow) (1.17.0)\n",
            "Requirement already satisfied: termcolor>=1.1.0 in /usr/local/lib/python3.11/dist-packages (from tensorflow) (3.1.0)\n",
            "Requirement already satisfied: typing-extensions>=3.6.6 in /usr/local/lib/python3.11/dist-packages (from tensorflow) (4.13.2)\n",
            "Requirement already satisfied: wrapt>=1.11.0 in /usr/local/lib/python3.11/dist-packages (from tensorflow) (1.17.2)\n",
            "Requirement already satisfied: grpcio<2.0,>=1.24.3 in /usr/local/lib/python3.11/dist-packages (from tensorflow) (1.71.0)\n",
            "Requirement already satisfied: tensorboard<2.19,>=2.18 in /usr/local/lib/python3.11/dist-packages (from tensorflow) (2.18.0)\n",
            "Requirement already satisfied: keras>=3.5.0 in /usr/local/lib/python3.11/dist-packages (from tensorflow) (3.8.0)\n",
            "Requirement already satisfied: numpy<2.1.0,>=1.26.0 in /usr/local/lib/python3.11/dist-packages (from tensorflow) (2.0.2)\n",
            "Requirement already satisfied: h5py>=3.11.0 in /usr/local/lib/python3.11/dist-packages (from tensorflow) (3.13.0)\n",
            "Requirement already satisfied: ml-dtypes<0.5.0,>=0.4.0 in /usr/local/lib/python3.11/dist-packages (from tensorflow) (0.4.1)\n",
            "Requirement already satisfied: tensorflow-io-gcs-filesystem>=0.23.1 in /usr/local/lib/python3.11/dist-packages (from tensorflow) (0.37.1)\n",
            "Requirement already satisfied: contourpy>=1.0.1 in /usr/local/lib/python3.11/dist-packages (from matplotlib) (1.3.2)\n",
            "Requirement already satisfied: cycler>=0.10 in /usr/local/lib/python3.11/dist-packages (from matplotlib) (0.12.1)\n",
            "Requirement already satisfied: fonttools>=4.22.0 in /usr/local/lib/python3.11/dist-packages (from matplotlib) (4.58.0)\n",
            "Requirement already satisfied: kiwisolver>=1.3.1 in /usr/local/lib/python3.11/dist-packages (from matplotlib) (1.4.8)\n",
            "Requirement already satisfied: pyparsing>=2.3.1 in /usr/local/lib/python3.11/dist-packages (from matplotlib) (3.2.3)\n",
            "Requirement already satisfied: python-dateutil>=2.7 in /usr/local/lib/python3.11/dist-packages (from matplotlib) (2.9.0.post0)\n",
            "Requirement already satisfied: wheel<1.0,>=0.23.0 in /usr/local/lib/python3.11/dist-packages (from astunparse>=1.6.0->tensorflow) (0.45.1)\n",
            "Requirement already satisfied: rich in /usr/local/lib/python3.11/dist-packages (from keras>=3.5.0->tensorflow) (13.9.4)\n",
            "Requirement already satisfied: namex in /usr/local/lib/python3.11/dist-packages (from keras>=3.5.0->tensorflow) (0.0.9)\n",
            "Requirement already satisfied: optree in /usr/local/lib/python3.11/dist-packages (from keras>=3.5.0->tensorflow) (0.15.0)\n",
            "Requirement already satisfied: charset-normalizer<4,>=2 in /usr/local/lib/python3.11/dist-packages (from requests<3,>=2.21.0->tensorflow) (3.4.2)\n",
            "Requirement already satisfied: idna<4,>=2.5 in /usr/local/lib/python3.11/dist-packages (from requests<3,>=2.21.0->tensorflow) (3.10)\n",
            "Requirement already satisfied: urllib3<3,>=1.21.1 in /usr/local/lib/python3.11/dist-packages (from requests<3,>=2.21.0->tensorflow) (2.4.0)\n",
            "Requirement already satisfied: certifi>=2017.4.17 in /usr/local/lib/python3.11/dist-packages (from requests<3,>=2.21.0->tensorflow) (2025.4.26)\n",
            "Requirement already satisfied: markdown>=2.6.8 in /usr/local/lib/python3.11/dist-packages (from tensorboard<2.19,>=2.18->tensorflow) (3.8)\n",
            "Requirement already satisfied: tensorboard-data-server<0.8.0,>=0.7.0 in /usr/local/lib/python3.11/dist-packages (from tensorboard<2.19,>=2.18->tensorflow) (0.7.2)\n",
            "Requirement already satisfied: werkzeug>=1.0.1 in /usr/local/lib/python3.11/dist-packages (from tensorboard<2.19,>=2.18->tensorflow) (3.1.3)\n",
            "Requirement already satisfied: MarkupSafe>=2.1.1 in /usr/local/lib/python3.11/dist-packages (from werkzeug>=1.0.1->tensorboard<2.19,>=2.18->tensorflow) (3.0.2)\n",
            "Requirement already satisfied: markdown-it-py>=2.2.0 in /usr/local/lib/python3.11/dist-packages (from rich->keras>=3.5.0->tensorflow) (3.0.0)\n",
            "Requirement already satisfied: pygments<3.0.0,>=2.13.0 in /usr/local/lib/python3.11/dist-packages (from rich->keras>=3.5.0->tensorflow) (2.19.1)\n",
            "Requirement already satisfied: mdurl~=0.1 in /usr/local/lib/python3.11/dist-packages (from markdown-it-py>=2.2.0->rich->keras>=3.5.0->tensorflow) (0.1.2)\n"
          ]
        }
      ],
      "source": [
        "!pip install tensorflow matplotlib pillow\n"
      ]
    },
    {
      "cell_type": "code",
      "execution_count": null,
      "metadata": {
        "id": "0r8LXPwuNo1g"
      },
      "outputs": [],
      "source": [
        "data_directory = \"/absolute/path/to/your/dataset\"\n"
      ]
    },
    {
      "cell_type": "code",
      "execution_count": null,
      "metadata": {
        "colab": {
          "base_uri": "https://localhost:8080/"
        },
        "id": "0xhAtzREP2ky",
        "outputId": "cb96d94a-0a58-477f-9df6-6bd4f71c9fad"
      },
      "outputs": [
        {
          "output_type": "stream",
          "name": "stdout",
          "text": [
            "ls: cannot access '/content/drive/MyDrive/dataset': No such file or directory\n"
          ]
        }
      ],
      "source": [
        "!ls \"/content/drive/MyDrive/dataset\"\n"
      ]
    },
    {
      "cell_type": "code",
      "execution_count": null,
      "metadata": {
        "colab": {
          "base_uri": "https://localhost:8080/"
        },
        "id": "ICerkunAP_py",
        "outputId": "7e90180a-296d-4bc0-80c6-0fd41b406528"
      },
      "outputs": [
        {
          "output_type": "stream",
          "name": "stdout",
          "text": [
            "'10th memo.pdf'\n",
            " 20230311_161114.jpg\n",
            "'22211A3246_Reddaveni Shrija.pdf'\n",
            " AADHAAR.pdf.PDF\n",
            "'AADHAR SHRIJA_compressed.pdf'\n",
            "'Abhilasha (aadhar card).pdf'\n",
            " aictelogo.png\n",
            " Classroom\n",
            "'Colab Notebooks'\n",
            " CompletionReport-2024.xlsx\n",
            "'Copy of Unit-2.pdf'\n",
            "'Copyright Protection in India.gdoc'\n",
            " DA25S51526462_AdmitCard.pdf\n",
            " dataset_proj\n",
            " IMG-20250406-WA0032.jpg\n",
            "'IMG_20250407_084956 (1).jpg'\n",
            " IMG_20250407_084956.jpg\n",
            " IMG-20250408-WA0000.jpg\n",
            "'inter long memo.pdf'\n",
            "'Minor Project'\n",
            " PEE_UNIT-IV.gdoc\n",
            " PIIC.jpg\n",
            "'Reddaveni Shrija.pdf'\n",
            " R.Shrija.pdf\n",
            " Screenshot_20230111_213512_Gallery.jpg\n",
            " Screenshot_20230617_155426_Gallery.jpg\n",
            " Screenshot_2025-04-06-14-02-01-932_com.phonepe.app.jpg\n",
            " Screenshot_2025-04-06-14-07-35-585_com.android.chrome.jpg\n",
            " Screenshot_2025-04-08-00-27-50-567_com.phonepe.app.jpg\n",
            " Screenshot_2025-04-09-21-17-13-095_com.phonepe.app.jpg\n",
            "'Screenshot (6).png'\n",
            "'Shrija CV new.pdf'\n",
            "'Shrija Reddaveni resume (1).pdf'\n",
            "'Shrija Reddaveni resume.pdf'\n",
            "'Untitled document (1).gdoc'\n",
            "'Untitled document.gdoc'\n",
            " vdo.mp4\n",
            "'VN20240319_214401 (1).mp4'\n",
            " VN20240319_214401.mp4\n"
          ]
        }
      ],
      "source": [
        "!ls \"/content/drive/MyDrive/\"\n"
      ]
    },
    {
      "cell_type": "code",
      "execution_count": null,
      "metadata": {
        "colab": {
          "base_uri": "https://localhost:8080/"
        },
        "id": "-JvzFT_aQt1f",
        "outputId": "6cd6432e-30e9-4079-f561-79d0365f7e3b"
      },
      "outputs": [
        {
          "output_type": "stream",
          "name": "stdout",
          "text": [
            "Drive already mounted at /content/drive; to attempt to forcibly remount, call drive.mount(\"/content/drive\", force_remount=True).\n"
          ]
        }
      ],
      "source": [
        "from google.colab import drive\n",
        "drive.mount('/content/drive')\n"
      ]
    },
    {
      "cell_type": "code",
      "execution_count": null,
      "metadata": {
        "colab": {
          "base_uri": "https://localhost:8080/"
        },
        "id": "j-rzQxgRQwAA",
        "outputId": "e744af6d-5b56-4dd7-ffd8-a9263e2fe0f2"
      },
      "outputs": [
        {
          "output_type": "stream",
          "name": "stdout",
          "text": [
            "'10th memo.pdf'\n",
            " 20230311_161114.jpg\n",
            "'22211A3246_Reddaveni Shrija.pdf'\n",
            " AADHAAR.pdf.PDF\n",
            "'AADHAR SHRIJA_compressed.pdf'\n",
            "'Abhilasha (aadhar card).pdf'\n",
            " aictelogo.png\n",
            " Classroom\n",
            "'Colab Notebooks'\n",
            " CompletionReport-2024.xlsx\n",
            "'Copy of Unit-2.pdf'\n",
            "'Copyright Protection in India.gdoc'\n",
            " DA25S51526462_AdmitCard.pdf\n",
            " dataset_proj\n",
            " IMG-20250406-WA0032.jpg\n",
            "'IMG_20250407_084956 (1).jpg'\n",
            " IMG_20250407_084956.jpg\n",
            " IMG-20250408-WA0000.jpg\n",
            "'inter long memo.pdf'\n",
            "'Minor Project'\n",
            " PEE_UNIT-IV.gdoc\n",
            " PIIC.jpg\n",
            "'Reddaveni Shrija.pdf'\n",
            " R.Shrija.pdf\n",
            " Screenshot_20230111_213512_Gallery.jpg\n",
            " Screenshot_20230617_155426_Gallery.jpg\n",
            " Screenshot_2025-04-06-14-02-01-932_com.phonepe.app.jpg\n",
            " Screenshot_2025-04-06-14-07-35-585_com.android.chrome.jpg\n",
            " Screenshot_2025-04-08-00-27-50-567_com.phonepe.app.jpg\n",
            " Screenshot_2025-04-09-21-17-13-095_com.phonepe.app.jpg\n",
            "'Screenshot (6).png'\n",
            "'Shrija CV new.pdf'\n",
            "'Shrija Reddaveni resume (1).pdf'\n",
            "'Shrija Reddaveni resume.pdf'\n",
            "'Untitled document (1).gdoc'\n",
            "'Untitled document.gdoc'\n",
            " vdo.mp4\n",
            "'VN20240319_214401 (1).mp4'\n",
            " VN20240319_214401.mp4\n"
          ]
        }
      ],
      "source": [
        "!ls \"/content/drive/MyDrive\"\n"
      ]
    },
    {
      "cell_type": "code",
      "execution_count": null,
      "metadata": {
        "colab": {
          "base_uri": "https://localhost:8080/"
        },
        "id": "axa2BXSbQx6s",
        "outputId": "3d24ad55-762f-4392-da94-21f51e477f0e"
      },
      "outputs": [
        {
          "output_type": "stream",
          "name": "stdout",
          "text": [
            "acne\t\t      fungal-infections\t\t  seborrheic_keratosis\n",
            "actinic_keratosis     melanoma\t\t\t  squamous_cell_carcinoma\n",
            "basal_cell_carcinoma  nevus\t\t\t  vascular_lesion\n",
            "dermatofibroma\t      pigmented_benign_keratosis  vitiligo\n",
            "eczema\t\t      psoriasis\t\t\t  warts\n"
          ]
        }
      ],
      "source": [
        "!ls \"/content/drive/MyDrive/dataset_proj\"\n"
      ]
    },
    {
      "cell_type": "code",
      "execution_count": null,
      "metadata": {
        "id": "yrxWwAWIRUX8"
      },
      "outputs": [],
      "source": [
        "data_directory = \"/content/drive/MyDrive/dataset_proj/\"\n"
      ]
    },
    {
      "cell_type": "code",
      "execution_count": null,
      "metadata": {
        "colab": {
          "base_uri": "https://localhost:8080/"
        },
        "id": "eOKuDGFDRY99",
        "outputId": "bb2f5438-c90c-4680-9b08-98a56ccb1bd9"
      },
      "outputs": [
        {
          "output_type": "stream",
          "name": "stdout",
          "text": [
            "acne\t\t      fungal-infections\t\t  seborrheic_keratosis\n",
            "actinic_keratosis     melanoma\t\t\t  squamous_cell_carcinoma\n",
            "basal_cell_carcinoma  nevus\t\t\t  vascular_lesion\n",
            "dermatofibroma\t      pigmented_benign_keratosis  vitiligo\n",
            "eczema\t\t      psoriasis\t\t\t  warts\n"
          ]
        }
      ],
      "source": [
        "!ls \"/content/drive/MyDrive/dataset_proj/\"\n"
      ]
    },
    {
      "cell_type": "code",
      "execution_count": null,
      "metadata": {
        "colab": {
          "base_uri": "https://localhost:8080/",
          "height": 1000
        },
        "id": "Cet6W6XOuDu2",
        "outputId": "d904e567-4b3b-481c-9cb2-1815956e4524"
      },
      "outputs": [
        {
          "data": {
            "text/html": [
              "<pre style=\"white-space:pre;overflow-x:auto;line-height:normal;font-family:Menlo,'DejaVu Sans Mono',consolas,'Courier New',monospace\"><span style=\"font-weight: bold\">Model: \"functional\"</span>\n",
              "</pre>\n"
            ],
            "text/plain": [
              "\u001b[1mModel: \"functional\"\u001b[0m\n"
            ]
          },
          "metadata": {},
          "output_type": "display_data"
        },
        {
          "data": {
            "text/html": [
              "<pre style=\"white-space:pre;overflow-x:auto;line-height:normal;font-family:Menlo,'DejaVu Sans Mono',consolas,'Courier New',monospace\">┏━━━━━━━━━━━━━━━━━━━━━━━━━━━━━━━━━┳━━━━━━━━━━━━━━━━━━━━━━━━┳━━━━━━━━━━━━━━━┓\n",
              "┃<span style=\"font-weight: bold\"> Layer (type)                    </span>┃<span style=\"font-weight: bold\"> Output Shape           </span>┃<span style=\"font-weight: bold\">       Param # </span>┃\n",
              "┡━━━━━━━━━━━━━━━━━━━━━━━━━━━━━━━━━╇━━━━━━━━━━━━━━━━━━━━━━━━╇━━━━━━━━━━━━━━━┩\n",
              "│ input_layer (<span style=\"color: #0087ff; text-decoration-color: #0087ff\">InputLayer</span>)        │ (<span style=\"color: #00d7ff; text-decoration-color: #00d7ff\">None</span>, <span style=\"color: #00af00; text-decoration-color: #00af00\">128</span>, <span style=\"color: #00af00; text-decoration-color: #00af00\">128</span>, <span style=\"color: #00af00; text-decoration-color: #00af00\">3</span>)    │             <span style=\"color: #00af00; text-decoration-color: #00af00\">0</span> │\n",
              "├─────────────────────────────────┼────────────────────────┼───────────────┤\n",
              "│ conv2d (<span style=\"color: #0087ff; text-decoration-color: #0087ff\">Conv2D</span>)                 │ (<span style=\"color: #00d7ff; text-decoration-color: #00d7ff\">None</span>, <span style=\"color: #00af00; text-decoration-color: #00af00\">126</span>, <span style=\"color: #00af00; text-decoration-color: #00af00\">126</span>, <span style=\"color: #00af00; text-decoration-color: #00af00\">32</span>)   │           <span style=\"color: #00af00; text-decoration-color: #00af00\">896</span> │\n",
              "├─────────────────────────────────┼────────────────────────┼───────────────┤\n",
              "│ max_pooling2d (<span style=\"color: #0087ff; text-decoration-color: #0087ff\">MaxPooling2D</span>)    │ (<span style=\"color: #00d7ff; text-decoration-color: #00d7ff\">None</span>, <span style=\"color: #00af00; text-decoration-color: #00af00\">63</span>, <span style=\"color: #00af00; text-decoration-color: #00af00\">63</span>, <span style=\"color: #00af00; text-decoration-color: #00af00\">32</span>)     │             <span style=\"color: #00af00; text-decoration-color: #00af00\">0</span> │\n",
              "├─────────────────────────────────┼────────────────────────┼───────────────┤\n",
              "│ conv2d_1 (<span style=\"color: #0087ff; text-decoration-color: #0087ff\">Conv2D</span>)               │ (<span style=\"color: #00d7ff; text-decoration-color: #00d7ff\">None</span>, <span style=\"color: #00af00; text-decoration-color: #00af00\">61</span>, <span style=\"color: #00af00; text-decoration-color: #00af00\">61</span>, <span style=\"color: #00af00; text-decoration-color: #00af00\">64</span>)     │        <span style=\"color: #00af00; text-decoration-color: #00af00\">18,496</span> │\n",
              "├─────────────────────────────────┼────────────────────────┼───────────────┤\n",
              "│ max_pooling2d_1 (<span style=\"color: #0087ff; text-decoration-color: #0087ff\">MaxPooling2D</span>)  │ (<span style=\"color: #00d7ff; text-decoration-color: #00d7ff\">None</span>, <span style=\"color: #00af00; text-decoration-color: #00af00\">30</span>, <span style=\"color: #00af00; text-decoration-color: #00af00\">30</span>, <span style=\"color: #00af00; text-decoration-color: #00af00\">64</span>)     │             <span style=\"color: #00af00; text-decoration-color: #00af00\">0</span> │\n",
              "├─────────────────────────────────┼────────────────────────┼───────────────┤\n",
              "│ conv2d_2 (<span style=\"color: #0087ff; text-decoration-color: #0087ff\">Conv2D</span>)               │ (<span style=\"color: #00d7ff; text-decoration-color: #00d7ff\">None</span>, <span style=\"color: #00af00; text-decoration-color: #00af00\">28</span>, <span style=\"color: #00af00; text-decoration-color: #00af00\">28</span>, <span style=\"color: #00af00; text-decoration-color: #00af00\">128</span>)    │        <span style=\"color: #00af00; text-decoration-color: #00af00\">73,856</span> │\n",
              "├─────────────────────────────────┼────────────────────────┼───────────────┤\n",
              "│ max_pooling2d_2 (<span style=\"color: #0087ff; text-decoration-color: #0087ff\">MaxPooling2D</span>)  │ (<span style=\"color: #00d7ff; text-decoration-color: #00d7ff\">None</span>, <span style=\"color: #00af00; text-decoration-color: #00af00\">14</span>, <span style=\"color: #00af00; text-decoration-color: #00af00\">14</span>, <span style=\"color: #00af00; text-decoration-color: #00af00\">128</span>)    │             <span style=\"color: #00af00; text-decoration-color: #00af00\">0</span> │\n",
              "├─────────────────────────────────┼────────────────────────┼───────────────┤\n",
              "│ flatten (<span style=\"color: #0087ff; text-decoration-color: #0087ff\">Flatten</span>)               │ (<span style=\"color: #00d7ff; text-decoration-color: #00d7ff\">None</span>, <span style=\"color: #00af00; text-decoration-color: #00af00\">25088</span>)          │             <span style=\"color: #00af00; text-decoration-color: #00af00\">0</span> │\n",
              "├─────────────────────────────────┼────────────────────────┼───────────────┤\n",
              "│ lo_ra_layer (<span style=\"color: #0087ff; text-decoration-color: #0087ff\">LoRALayer</span>)         │ (<span style=\"color: #00d7ff; text-decoration-color: #00d7ff\">None</span>, <span style=\"color: #00af00; text-decoration-color: #00af00\">512</span>)            │    <span style=\"color: #00af00; text-decoration-color: #00af00\">12,947,456</span> │\n",
              "├─────────────────────────────────┼────────────────────────┼───────────────┤\n",
              "│ dense (<span style=\"color: #0087ff; text-decoration-color: #0087ff\">Dense</span>)                   │ (<span style=\"color: #00d7ff; text-decoration-color: #00d7ff\">None</span>, <span style=\"color: #00af00; text-decoration-color: #00af00\">15</span>)             │         <span style=\"color: #00af00; text-decoration-color: #00af00\">7,695</span> │\n",
              "└─────────────────────────────────┴────────────────────────┴───────────────┘\n",
              "</pre>\n"
            ],
            "text/plain": [
              "┏━━━━━━━━━━━━━━━━━━━━━━━━━━━━━━━━━┳━━━━━━━━━━━━━━━━━━━━━━━━┳━━━━━━━━━━━━━━━┓\n",
              "┃\u001b[1m \u001b[0m\u001b[1mLayer (type)                   \u001b[0m\u001b[1m \u001b[0m┃\u001b[1m \u001b[0m\u001b[1mOutput Shape          \u001b[0m\u001b[1m \u001b[0m┃\u001b[1m \u001b[0m\u001b[1m      Param #\u001b[0m\u001b[1m \u001b[0m┃\n",
              "┡━━━━━━━━━━━━━━━━━━━━━━━━━━━━━━━━━╇━━━━━━━━━━━━━━━━━━━━━━━━╇━━━━━━━━━━━━━━━┩\n",
              "│ input_layer (\u001b[38;5;33mInputLayer\u001b[0m)        │ (\u001b[38;5;45mNone\u001b[0m, \u001b[38;5;34m128\u001b[0m, \u001b[38;5;34m128\u001b[0m, \u001b[38;5;34m3\u001b[0m)    │             \u001b[38;5;34m0\u001b[0m │\n",
              "├─────────────────────────────────┼────────────────────────┼───────────────┤\n",
              "│ conv2d (\u001b[38;5;33mConv2D\u001b[0m)                 │ (\u001b[38;5;45mNone\u001b[0m, \u001b[38;5;34m126\u001b[0m, \u001b[38;5;34m126\u001b[0m, \u001b[38;5;34m32\u001b[0m)   │           \u001b[38;5;34m896\u001b[0m │\n",
              "├─────────────────────────────────┼────────────────────────┼───────────────┤\n",
              "│ max_pooling2d (\u001b[38;5;33mMaxPooling2D\u001b[0m)    │ (\u001b[38;5;45mNone\u001b[0m, \u001b[38;5;34m63\u001b[0m, \u001b[38;5;34m63\u001b[0m, \u001b[38;5;34m32\u001b[0m)     │             \u001b[38;5;34m0\u001b[0m │\n",
              "├─────────────────────────────────┼────────────────────────┼───────────────┤\n",
              "│ conv2d_1 (\u001b[38;5;33mConv2D\u001b[0m)               │ (\u001b[38;5;45mNone\u001b[0m, \u001b[38;5;34m61\u001b[0m, \u001b[38;5;34m61\u001b[0m, \u001b[38;5;34m64\u001b[0m)     │        \u001b[38;5;34m18,496\u001b[0m │\n",
              "├─────────────────────────────────┼────────────────────────┼───────────────┤\n",
              "│ max_pooling2d_1 (\u001b[38;5;33mMaxPooling2D\u001b[0m)  │ (\u001b[38;5;45mNone\u001b[0m, \u001b[38;5;34m30\u001b[0m, \u001b[38;5;34m30\u001b[0m, \u001b[38;5;34m64\u001b[0m)     │             \u001b[38;5;34m0\u001b[0m │\n",
              "├─────────────────────────────────┼────────────────────────┼───────────────┤\n",
              "│ conv2d_2 (\u001b[38;5;33mConv2D\u001b[0m)               │ (\u001b[38;5;45mNone\u001b[0m, \u001b[38;5;34m28\u001b[0m, \u001b[38;5;34m28\u001b[0m, \u001b[38;5;34m128\u001b[0m)    │        \u001b[38;5;34m73,856\u001b[0m │\n",
              "├─────────────────────────────────┼────────────────────────┼───────────────┤\n",
              "│ max_pooling2d_2 (\u001b[38;5;33mMaxPooling2D\u001b[0m)  │ (\u001b[38;5;45mNone\u001b[0m, \u001b[38;5;34m14\u001b[0m, \u001b[38;5;34m14\u001b[0m, \u001b[38;5;34m128\u001b[0m)    │             \u001b[38;5;34m0\u001b[0m │\n",
              "├─────────────────────────────────┼────────────────────────┼───────────────┤\n",
              "│ flatten (\u001b[38;5;33mFlatten\u001b[0m)               │ (\u001b[38;5;45mNone\u001b[0m, \u001b[38;5;34m25088\u001b[0m)          │             \u001b[38;5;34m0\u001b[0m │\n",
              "├─────────────────────────────────┼────────────────────────┼───────────────┤\n",
              "│ lo_ra_layer (\u001b[38;5;33mLoRALayer\u001b[0m)         │ (\u001b[38;5;45mNone\u001b[0m, \u001b[38;5;34m512\u001b[0m)            │    \u001b[38;5;34m12,947,456\u001b[0m │\n",
              "├─────────────────────────────────┼────────────────────────┼───────────────┤\n",
              "│ dense (\u001b[38;5;33mDense\u001b[0m)                   │ (\u001b[38;5;45mNone\u001b[0m, \u001b[38;5;34m15\u001b[0m)             │         \u001b[38;5;34m7,695\u001b[0m │\n",
              "└─────────────────────────────────┴────────────────────────┴───────────────┘\n"
            ]
          },
          "metadata": {},
          "output_type": "display_data"
        },
        {
          "data": {
            "text/html": [
              "<pre style=\"white-space:pre;overflow-x:auto;line-height:normal;font-family:Menlo,'DejaVu Sans Mono',consolas,'Courier New',monospace\"><span style=\"font-weight: bold\"> Total params: </span><span style=\"color: #00af00; text-decoration-color: #00af00\">13,048,399</span> (49.78 MB)\n",
              "</pre>\n"
            ],
            "text/plain": [
              "\u001b[1m Total params: \u001b[0m\u001b[38;5;34m13,048,399\u001b[0m (49.78 MB)\n"
            ]
          },
          "metadata": {},
          "output_type": "display_data"
        },
        {
          "data": {
            "text/html": [
              "<pre style=\"white-space:pre;overflow-x:auto;line-height:normal;font-family:Menlo,'DejaVu Sans Mono',consolas,'Courier New',monospace\"><span style=\"font-weight: bold\"> Trainable params: </span><span style=\"color: #00af00; text-decoration-color: #00af00\">13,048,399</span> (49.78 MB)\n",
              "</pre>\n"
            ],
            "text/plain": [
              "\u001b[1m Trainable params: \u001b[0m\u001b[38;5;34m13,048,399\u001b[0m (49.78 MB)\n"
            ]
          },
          "metadata": {},
          "output_type": "display_data"
        },
        {
          "data": {
            "text/html": [
              "<pre style=\"white-space:pre;overflow-x:auto;line-height:normal;font-family:Menlo,'DejaVu Sans Mono',consolas,'Courier New',monospace\"><span style=\"font-weight: bold\"> Non-trainable params: </span><span style=\"color: #00af00; text-decoration-color: #00af00\">0</span> (0.00 B)\n",
              "</pre>\n"
            ],
            "text/plain": [
              "\u001b[1m Non-trainable params: \u001b[0m\u001b[38;5;34m0\u001b[0m (0.00 B)\n"
            ]
          },
          "metadata": {},
          "output_type": "display_data"
        },
        {
          "metadata": {
            "tags": null
          },
          "name": "stdout",
          "output_type": "stream",
          "text": [
            "['warts', 'vitiligo', 'dermatofibroma', 'nevus', 'eczema', 'fungal-infections', 'acne', 'melanoma', 'psoriasis', 'actinic_keratosis', 'basal_cell_carcinoma', 'pigmented_benign_keratosis', 'seborrheic_keratosis', 'squamous_cell_carcinoma', 'vascular_lesion']\n",
            "Found 1909 images belonging to 15 classes.\n",
            "Found 468 images belonging to 15 classes.\n"
          ]
        },
        {
          "metadata": {
            "tags": null
          },
          "name": "stderr",
          "output_type": "stream",
          "text": [
            "/usr/local/lib/python3.11/dist-packages/keras/src/trainers/data_adapters/py_dataset_adapter.py:121: UserWarning: Your `PyDataset` class should call `super().__init__(**kwargs)` in its constructor. `**kwargs` can include `workers`, `use_multiprocessing`, `max_queue_size`. Do not pass these arguments to `fit()`, as they will be ignored.\n",
            "  self._warn_if_super_not_called()\n"
          ]
        },
        {
          "output_type": "stream",
          "name": "stdout",
          "text": [
            "Epoch 1/30\n",
            "\u001b[1m60/60\u001b[0m \u001b[32m━━━━━━━━━━━━━━━━━━━━\u001b[0m\u001b[37m\u001b[0m \u001b[1m1095s\u001b[0m 18s/step - accuracy: 0.2337 - loss: 2.1740 - val_accuracy: 0.3226 - val_loss: 1.9648\n",
            "Epoch 2/30\n",
            "\u001b[1m60/60\u001b[0m \u001b[32m━━━━━━━━━━━━━━━━━━━━\u001b[0m\u001b[37m\u001b[0m \u001b[1m63s\u001b[0m 1s/step - accuracy: 0.3739 - loss: 1.8696 - val_accuracy: 0.3526 - val_loss: 1.7873\n",
            "Epoch 3/30\n",
            "\u001b[1m60/60\u001b[0m \u001b[32m━━━━━━━━━━━━━━━━━━━━\u001b[0m\u001b[37m\u001b[0m \u001b[1m63s\u001b[0m 1s/step - accuracy: 0.4364 - loss: 1.6989 - val_accuracy: 0.3611 - val_loss: 1.7958\n",
            "Epoch 4/30\n",
            "\u001b[1m60/60\u001b[0m \u001b[32m━━━━━━━━━━━━━━━━━━━━\u001b[0m\u001b[37m\u001b[0m \u001b[1m68s\u001b[0m 1s/step - accuracy: 0.4837 - loss: 1.5652 - val_accuracy: 0.3462 - val_loss: 1.7831\n",
            "Epoch 5/30\n",
            "\u001b[1m60/60\u001b[0m \u001b[32m━━━━━━━━━━━━━━━━━━━━\u001b[0m\u001b[37m\u001b[0m \u001b[1m64s\u001b[0m 1s/step - accuracy: 0.4764 - loss: 1.5383 - val_accuracy: 0.4466 - val_loss: 1.6923\n",
            "Epoch 6/30\n",
            "\u001b[1m60/60\u001b[0m \u001b[32m━━━━━━━━━━━━━━━━━━━━\u001b[0m\u001b[37m\u001b[0m \u001b[1m66s\u001b[0m 1s/step - accuracy: 0.5244 - loss: 1.4265 - val_accuracy: 0.4637 - val_loss: 1.6254\n",
            "Epoch 7/30\n",
            "\u001b[1m60/60\u001b[0m \u001b[32m━━━━━━━━━━━━━━━━━━━━\u001b[0m\u001b[37m\u001b[0m \u001b[1m63s\u001b[0m 1s/step - accuracy: 0.5254 - loss: 1.3983 - val_accuracy: 0.4615 - val_loss: 1.6585\n",
            "Epoch 8/30\n",
            "\u001b[1m60/60\u001b[0m \u001b[32m━━━━━━━━━━━━━━━━━━━━\u001b[0m\u001b[37m\u001b[0m \u001b[1m63s\u001b[0m 1s/step - accuracy: 0.5463 - loss: 1.3853 - val_accuracy: 0.4231 - val_loss: 1.7440\n",
            "Epoch 9/30\n",
            "\u001b[1m60/60\u001b[0m \u001b[32m━━━━━━━━━━━━━━━━━━━━\u001b[0m\u001b[37m\u001b[0m \u001b[1m64s\u001b[0m 1s/step - accuracy: 0.5613 - loss: 1.3271 - val_accuracy: 0.4466 - val_loss: 1.6519\n",
            "Epoch 10/30\n",
            "\u001b[1m60/60\u001b[0m \u001b[32m━━━━━━━━━━━━━━━━━━━━\u001b[0m\u001b[37m\u001b[0m \u001b[1m62s\u001b[0m 1s/step - accuracy: 0.5611 - loss: 1.3102 - val_accuracy: 0.4509 - val_loss: 1.6680\n",
            "Epoch 11/30\n",
            "\u001b[1m60/60\u001b[0m \u001b[32m━━━━━━━━━━━━━━━━━━━━\u001b[0m\u001b[37m\u001b[0m \u001b[1m62s\u001b[0m 1s/step - accuracy: 0.5665 - loss: 1.2911 - val_accuracy: 0.4744 - val_loss: 1.6839\n",
            "Epoch 12/30\n",
            "\u001b[1m60/60\u001b[0m \u001b[32m━━━━━━━━━━━━━━━━━━━━\u001b[0m\u001b[37m\u001b[0m \u001b[1m64s\u001b[0m 1s/step - accuracy: 0.5614 - loss: 1.2743 - val_accuracy: 0.4679 - val_loss: 1.6822\n",
            "Epoch 13/30\n",
            "\u001b[1m60/60\u001b[0m \u001b[32m━━━━━━━━━━━━━━━━━━━━\u001b[0m\u001b[37m\u001b[0m \u001b[1m76s\u001b[0m 1s/step - accuracy: 0.5847 - loss: 1.2227 - val_accuracy: 0.4359 - val_loss: 1.8741\n",
            "Epoch 14/30\n",
            "\u001b[1m60/60\u001b[0m \u001b[32m━━━━━━━━━━━━━━━━━━━━\u001b[0m\u001b[37m\u001b[0m \u001b[1m64s\u001b[0m 1s/step - accuracy: 0.5758 - loss: 1.2825 - val_accuracy: 0.4893 - val_loss: 1.6401\n",
            "Epoch 15/30\n",
            "\u001b[1m60/60\u001b[0m \u001b[32m━━━━━━━━━━━━━━━━━━━━\u001b[0m\u001b[37m\u001b[0m \u001b[1m81s\u001b[0m 1s/step - accuracy: 0.5709 - loss: 1.2204 - val_accuracy: 0.4316 - val_loss: 1.7084\n",
            "Epoch 16/30\n",
            "\u001b[1m60/60\u001b[0m \u001b[32m━━━━━━━━━━━━━━━━━━━━\u001b[0m\u001b[37m\u001b[0m \u001b[1m62s\u001b[0m 1s/step - accuracy: 0.5700 - loss: 1.2152 - val_accuracy: 0.4573 - val_loss: 1.6133\n",
            "Epoch 17/30\n",
            "\u001b[1m60/60\u001b[0m \u001b[32m━━━━━━━━━━━━━━━━━━━━\u001b[0m\u001b[37m\u001b[0m \u001b[1m63s\u001b[0m 1s/step - accuracy: 0.5919 - loss: 1.2367 - val_accuracy: 0.4444 - val_loss: 1.6835\n",
            "Epoch 18/30\n",
            "\u001b[1m60/60\u001b[0m \u001b[32m━━━━━━━━━━━━━━━━━━━━\u001b[0m\u001b[37m\u001b[0m \u001b[1m64s\u001b[0m 1s/step - accuracy: 0.5754 - loss: 1.2069 - val_accuracy: 0.4615 - val_loss: 1.7514\n",
            "Epoch 19/30\n",
            "\u001b[1m60/60\u001b[0m \u001b[32m━━━━━━━━━━━━━━━━━━━━\u001b[0m\u001b[37m\u001b[0m \u001b[1m82s\u001b[0m 1s/step - accuracy: 0.6228 - loss: 1.1333 - val_accuracy: 0.4786 - val_loss: 1.6517\n",
            "Epoch 20/30\n",
            "\u001b[1m60/60\u001b[0m \u001b[32m━━━━━━━━━━━━━━━━━━━━\u001b[0m\u001b[37m\u001b[0m \u001b[1m66s\u001b[0m 1s/step - accuracy: 0.5885 - loss: 1.1848 - val_accuracy: 0.4444 - val_loss: 1.7642\n",
            "Epoch 21/30\n",
            "\u001b[1m60/60\u001b[0m \u001b[32m━━━━━━━━━━━━━━━━━━━━\u001b[0m\u001b[37m\u001b[0m \u001b[1m64s\u001b[0m 1s/step - accuracy: 0.5988 - loss: 1.1752 - val_accuracy: 0.4893 - val_loss: 1.7138\n",
            "Epoch 22/30\n",
            "\u001b[1m60/60\u001b[0m \u001b[32m━━━━━━━━━━━━━━━━━━━━\u001b[0m\u001b[37m\u001b[0m \u001b[1m67s\u001b[0m 1s/step - accuracy: 0.6086 - loss: 1.1617 - val_accuracy: 0.4979 - val_loss: 1.7042\n",
            "Epoch 23/30\n",
            "\u001b[1m60/60\u001b[0m \u001b[32m━━━━━━━━━━━━━━━━━━━━\u001b[0m\u001b[37m\u001b[0m \u001b[1m67s\u001b[0m 1s/step - accuracy: 0.6038 - loss: 1.1517 - val_accuracy: 0.4679 - val_loss: 1.6841\n",
            "Epoch 24/30\n",
            "\u001b[1m60/60\u001b[0m \u001b[32m━━━━━━━━━━━━━━━━━━━━\u001b[0m\u001b[37m\u001b[0m \u001b[1m64s\u001b[0m 1s/step - accuracy: 0.6081 - loss: 1.1472 - val_accuracy: 0.4786 - val_loss: 1.6801\n",
            "Epoch 25/30\n",
            "\u001b[1m60/60\u001b[0m \u001b[32m━━━━━━━━━━━━━━━━━━━━\u001b[0m\u001b[37m\u001b[0m \u001b[1m63s\u001b[0m 1s/step - accuracy: 0.6132 - loss: 1.1216 - val_accuracy: 0.4637 - val_loss: 1.7421\n",
            "Epoch 26/30\n",
            "\u001b[1m60/60\u001b[0m \u001b[32m━━━━━━━━━━━━━━━━━━━━\u001b[0m\u001b[37m\u001b[0m \u001b[1m63s\u001b[0m 1s/step - accuracy: 0.6126 - loss: 1.1250 - val_accuracy: 0.4444 - val_loss: 1.7094\n",
            "Epoch 27/30\n",
            "\u001b[1m60/60\u001b[0m \u001b[32m━━━━━━━━━━━━━━━━━━━━\u001b[0m\u001b[37m\u001b[0m \u001b[1m63s\u001b[0m 1s/step - accuracy: 0.6062 - loss: 1.1214 - val_accuracy: 0.4701 - val_loss: 1.8078\n",
            "Epoch 28/30\n",
            "\u001b[1m60/60\u001b[0m \u001b[32m━━━━━━━━━━━━━━━━━━━━\u001b[0m\u001b[37m\u001b[0m \u001b[1m63s\u001b[0m 1s/step - accuracy: 0.6251 - loss: 1.0926 - val_accuracy: 0.4786 - val_loss: 1.7875\n",
            "Epoch 29/30\n",
            "\u001b[1m60/60\u001b[0m \u001b[32m━━━━━━━━━━━━━━━━━━━━\u001b[0m\u001b[37m\u001b[0m \u001b[1m65s\u001b[0m 1s/step - accuracy: 0.6171 - loss: 1.1189 - val_accuracy: 0.5043 - val_loss: 1.6738\n",
            "Epoch 30/30\n",
            "\u001b[1m60/60\u001b[0m \u001b[32m━━━━━━━━━━━━━━━━━━━━\u001b[0m\u001b[37m\u001b[0m \u001b[1m62s\u001b[0m 1s/step - accuracy: 0.6234 - loss: 1.0569 - val_accuracy: 0.4679 - val_loss: 1.7296\n"
          ]
        },
        {
          "output_type": "display_data",
          "data": {
            "text/plain": [
              "<Figure size 640x480 with 1 Axes>"
            ],
            "image/png": "[encoded data removed]"
          },
          "metadata": {}
        }
      ],
      "source": [
        "#Importing Required Libraries\n",
        "#We use tensorflow.keras for deep learning, matplotlib for visualization, numpy for numerical operations, and os to handle file paths.\n",
        "#The dataset is stored in a directory and will be accessed from there\n",
        "import tensorflow as tf\n",
        "from tensorflow.keras.preprocessing.image import ImageDataGenerator\n",
        "from tensorflow.keras.models import Sequential, Model\n",
        "from tensorflow.keras.layers import Conv2D, MaxPooling2D, Flatten, Dense, Input\n",
        "from tensorflow.keras.optimizers import Adam\n",
        "import matplotlib.pyplot as plt\n",
        "import numpy as np\n",
        "import os\n",
        "\n",
        "# Importing LoRA components\n",
        "from tensorflow.keras.initializers import RandomNormal\n",
        "\n",
        "#LoRA (Low-Rank Adaptation) Layer\n",
        "#A custom layer is defined (LoRALayer) to improve efficiency and reduce computational load.\n",
        "#It modifies the model’s learning process by adding low-rank matrix transformations to the standard layer.\n",
        "# LoRA Layer Definition\n",
        "class LoRALayer(tf.keras.layers.Layer):\n",
        "    def __init__(self, units, rank=4, **kwargs):\n",
        "        super(LoRALayer, self).__init__(**kwargs)\n",
        "        self.units = units\n",
        "        self.rank = rank\n",
        "\n",
        "    def build(self, input_shape):\n",
        "        self.kernel = self.add_weight(name='kernel',\n",
        "                                     shape=(input_shape[-1], self.units),\n",
        "                                     initializer='glorot_uniform',\n",
        "                                     trainable=True)\n",
        "        self.lora_A = self.add_weight(name='lora_A',\n",
        "                                      shape=(input_shape[-1], self.rank),\n",
        "                                      initializer=RandomNormal(mean=0.0, stddev=0.01),\n",
        "                                      trainable=True)\n",
        "        self.lora_B = self.add_weight(name='lora_B',\n",
        "                                      shape=(self.rank, self.units),\n",
        "                                      initializer=RandomNormal(mean=0.0, stddev=0.01),\n",
        "                                      trainable=True)\n",
        "\n",
        "    def call(self, inputs):\n",
        "        base_output = tf.matmul(inputs, self.kernel)\n",
        "        lora_output = tf.matmul(tf.matmul(inputs, self.lora_A), self.lora_B)\n",
        "        return base_output + lora_output\n",
        "\n",
        "    def compute_output_shape(self, input_shape):\n",
        "        return (input_shape[0], self.units)\n",
        "\n",
        "\n",
        "\n",
        "# CNN Model with LoRA\n",
        "input_layer = Input(shape=(128, 128, 3))\n",
        "conv1 = Conv2D(32, (3, 3), activation='relu')(input_layer)\n",
        "pool1 = MaxPooling2D(pool_size=(2, 2))(conv1)\n",
        "conv2 = Conv2D(64, (3, 3), activation='relu')(pool1)\n",
        "pool2 = MaxPooling2D(pool_size=(2, 2))(conv2)\n",
        "conv3 = Conv2D(128, (3, 3), activation='relu')(pool2)\n",
        "pool3 = MaxPooling2D(pool_size=(2, 2))(conv3)\n",
        "flat = Flatten()(pool3)\n",
        "dense1 = LoRALayer(512)(flat)  # Applying LoRA here\n",
        "output_layer = Dense(15, activation='softmax')(dense1)\n",
        "\n",
        "model = Model(inputs=input_layer, outputs=output_layer)\n",
        "\n",
        "model.compile(optimizer=Adam(learning_rate=0.00005),  # Reduce LR\n",
        "              loss='categorical_crossentropy',\n",
        "              metrics=['accuracy'])\n",
        "\n",
        "\n",
        "from tensorflow.keras.utils import plot_model\n",
        "plot_model(model, to_file='model_architecture.png', show_shapes=True)\n",
        "model.summary()\n",
        "\n",
        "# Data Preparation\n",
        "image_size = (128, 128)\n",
        "batch_size = 32\n",
        "train_datagen = ImageDataGenerator(\n",
        "    rescale=1./255,\n",
        "    shear_range=0.2,\n",
        "    zoom_range=0.2,\n",
        "    horizontal_flip=True,\n",
        "    rotation_range=20,  # New\n",
        "    brightness_range=[0.8, 1.2],  # New\n",
        "    validation_split=0.2\n",
        ")\n",
        "\n",
        "# **Verify and Correct this path**\n",
        "data_directory = '/content/drive/MyDrive/dataset_proj/'\n",
        "# Print the contents to check the directory structure\n",
        "print(os.listdir(data_directory))\n",
        "\n",
        "# Ensure the directory exists\n",
        "if not os.path.exists(data_directory):\n",
        "    raise FileNotFoundError(f\"Dataset directory '{data_directory}' not found. Please check the path.\")\n",
        "\n",
        "# Create the generators\n",
        "train_generator = train_datagen.flow_from_directory(\n",
        "    data_directory,\n",
        "    target_size=image_size,\n",
        "    batch_size=batch_size,\n",
        "    class_mode='categorical',  # <-- Ensure it's categorical\n",
        "    subset='training'\n",
        ")\n",
        "\n",
        "validation_generator = train_datagen.flow_from_directory(\n",
        "    data_directory,\n",
        "    target_size=image_size,\n",
        "    batch_size=batch_size,\n",
        "    class_mode='categorical',  # <-- Ensure it's categorical\n",
        "    subset='validation'\n",
        ")\n",
        "\n",
        "# Training the Model\n",
        "from tensorflow.keras.callbacks import EarlyStopping, ModelCheckpoint\n",
        "\n",
        "callbacks = [\n",
        "    EarlyStopping(monitor='val_loss', patience=5, restore_best_weights=True),\n",
        "    ModelCheckpoint('best_model.keras', save_best_only=True)  # Save in recommended format\n",
        "]\n",
        "\n",
        "history = model.fit(\n",
        "    train_generator,\n",
        "    epochs=30,\n",
        "    validation_data=validation_generator\n",
        ")\n",
        "\n",
        "# Plotting Training Results\n",
        "plt.plot(history.history['accuracy'], label='Training Accuracy')\n",
        "plt.plot(history.history['val_accuracy'], label='Validation Accuracy')\n",
        "plt.xlabel('Epochs')\n",
        "plt.ylabel('Accuracy')\n",
        "plt.legend()\n",
        "plt.show()"
      ]
    },
    {
      "cell_type": "code",
      "execution_count": null,
      "metadata": {
        "colab": {
          "base_uri": "https://localhost:8080/"
        },
        "id": "i5bimPMM-MFP",
        "outputId": "b37e7ca7-28c7-4e4f-970d-ebee8468df64"
      },
      "outputs": [
        {
          "output_type": "stream",
          "name": "stderr",
          "text": [
            "WARNING:absl:You are saving your model as an HDF5 file via `model.save()` or `keras.saving.save_model(model)`. This file format is considered legacy. We recommend using instead the native Keras format, e.g. `model.save('my_model.keras')` or `keras.saving.save_model(model, 'my_model.keras')`. \n"
          ]
        }
      ],
      "source": [
        "model.save(\"/content/drive/MyDrive/Minor Project/skin_spot_detector_model.h5\")\n"
      ]
    },
    {
      "cell_type": "code",
      "source": [],
      "metadata": {
        "id": "QeI9QH1SQKw_"
      },
      "execution_count": null,
      "outputs": []
    },
    {
      "cell_type": "code",
      "source": [],
      "metadata": {
        "id": "6aKEVTI9QKlN"
      },
      "execution_count": null,
      "outputs": []
    },
    {
      "cell_type": "code",
      "execution_count": null,
      "metadata": {
        "colab": {
          "base_uri": "https://localhost:8080/"
        },
        "id": "WS-VS0Y6-XRN",
        "outputId": "c0368351-0bb2-493f-803f-c98ea948a0bb"
      },
      "outputs": [
        {
          "output_type": "stream",
          "name": "stderr",
          "text": [
            "WARNING:absl:Compiled the loaded model, but the compiled metrics have yet to be built. `model.compile_metrics` will be empty until you train or evaluate the model.\n"
          ]
        }
      ],
      "source": [
        "from tensorflow.keras.models import load_model\n",
        "\n",
        "# Define your LoRALayer class here (same as in your training script)\n",
        "\n",
        "# LoRA Layer Definition\n",
        "class LoRALayer(tf.keras.layers.Layer):\n",
        "    def __init__(self, units, rank=4, **kwargs):\n",
        "        super(LoRALayer, self).__init__(**kwargs)\n",
        "        self.units = units\n",
        "        self.rank = rank\n",
        "\n",
        "    def build(self, input_shape):\n",
        "        self.kernel = self.add_weight(name='kernel',\n",
        "                                     shape=(input_shape[-1], self.units),\n",
        "                                     initializer='glorot_uniform',\n",
        "                                     trainable=True)\n",
        "        self.lora_A = self.add_weight(name='lora_A',\n",
        "                                      shape=(input_shape[-1], self.rank),\n",
        "                                      initializer=tf.keras.initializers.RandomNormal(mean=0.0, stddev=0.01),\n",
        "                                      trainable=True)\n",
        "        self.lora_B = self.add_weight(name='lora_B',\n",
        "                                      shape=(self.rank, self.units),\n",
        "                                      initializer=tf.keras.initializers.RandomNormal(mean=0.0, stddev=0.01),\n",
        "                                      trainable=True)\n",
        "\n",
        "    def call(self, inputs):\n",
        "        base_output = tf.matmul(inputs, self.kernel)\n",
        "        lora_output = tf.matmul(tf.matmul(inputs, self.lora_A), self.lora_B)\n",
        "        return base_output + lora_output\n",
        "\n",
        "    def compute_output_shape(self, input_shape):\n",
        "        return (input_shape[0], self.units)\n",
        "\n",
        "\n",
        "# Load the model with custom_objects\n",
        "model = load_model(\"/content/drive/MyDrive/Minor Project/skin_spot_detector_model.h5\",\n",
        "                   custom_objects={'LoRALayer': LoRALayer})"
      ]
    },
    {
      "cell_type": "code",
      "execution_count": null,
      "metadata": {
        "id": "U7X5jUwv_hCL",
        "colab": {
          "base_uri": "https://localhost:8080/"
        },
        "outputId": "d5fe9b85-e328-43d1-f282-9cac3bb5f161"
      },
      "outputs": [
        {
          "output_type": "stream",
          "name": "stderr",
          "text": [
            "WARNING:absl:Compiled the loaded model, but the compiled metrics have yet to be built. `model.compile_metrics` will be empty until you train or evaluate the model.\n"
          ]
        },
        {
          "output_type": "stream",
          "name": "stdout",
          "text": [
            "\u001b[1m1/1\u001b[0m \u001b[32m━━━━━━━━━━━━━━━━━━━━\u001b[0m\u001b[37m\u001b[0m \u001b[1m0s\u001b[0m 171ms/step\n",
            "Predicted class: acne\n",
            "Prediction probabilities:\n",
            "acne: 0.4979\n",
            "actinic_keratosis: 0.0000\n",
            "basal_cell_carcinoma: 0.0000\n",
            "dermatofibroma: 0.0000\n",
            "eczema: 0.0334\n",
            "fungal-infections: 0.0017\n",
            "melanoma: 0.0011\n",
            "nevus: 0.0021\n",
            "pigmented_benign_keratosis: 0.0000\n",
            "psoriasis: 0.3759\n",
            "seborrheic_keratosis: 0.0007\n",
            "squamous_cell_carcinoma: 0.0000\n",
            "vascular_lesion: 0.0000\n",
            "vitiligo: 0.0872\n",
            "warts: 0.0000\n"
          ]
        }
      ],
      "source": [
        "from tensorflow.keras.preprocessing import image\n",
        "import numpy as np\n",
        "import os\n",
        "from tensorflow.keras.models import load_model\n",
        "from tensorflow.keras.optimizers import Adam\n",
        "\n",
        "# ... (LoRALayer definition if necessary) ...\n",
        "\n",
        "model = load_model(\"/content/drive/MyDrive/Minor Project/skin_spot_detector_model.h5\",\n",
        "                   custom_objects={'LoRALayer': LoRALayer})\n",
        "\n",
        "# Recompile the model to avoid the warning\n",
        "model.compile(optimizer=Adam(learning_rate=0.00005),\n",
        "              loss='categorical_crossentropy',\n",
        "              metrics=['accuracy'])\n",
        "\n",
        "# Update the image path to point to a specific image file\n",
        "# Assuming there's an image file named 'image1.jpg' in the 'acne' directory\n",
        "test_image_path = \"/content/drive/MyDrive/dataset_proj/acne/acne_1.jpg\"\n",
        "\n",
        "# Load and preprocess the image\n",
        "img = image.load_img(test_image_path, target_size=(128, 128))\n",
        "img_array = image.img_to_array(img) / 255.0\n",
        "img_array = np.expand_dims(img_array, axis=0)\n",
        "\n",
        "# Make prediction\n",
        "prediction = model.predict(img_array)\n",
        "\n",
        "# Interpret the prediction\n",
        "# Assuming you have 15 classes, this will give you the predicted class index\n",
        "predicted_class_index = np.argmax(prediction)\n",
        "\n",
        "# Get the class labels from your training generator (if you used one)\n",
        "class_labels = list(train_generator.class_indices.keys())  # Replace 'train_generator' if necessary\n",
        "\n",
        "# Print the predicted class\n",
        "predicted_class = class_labels[predicted_class_index]\n",
        "print(f\"Predicted class: {predicted_class}\")\n",
        "\n",
        "# Optionally, print the prediction probabilities for each class:\n",
        "print(\"Prediction probabilities:\")\n",
        "for i, prob in enumerate(prediction[0]):\n",
        "    print(f\"{class_labels[i]}: {prob:.4f}\")"
      ]
    }
  ],
  "metadata": {
    "colab": {
      "provenance": []
    },
    "kernelspec": {
      "display_name": "Python 3",
      "name": "python3"
    },
    "language_info": {
      "name": "python"
    }
  },
  "nbformat": 4,
  "nbformat_minor": 0
}